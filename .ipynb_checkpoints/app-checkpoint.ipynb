{
 "cells": [
  {
   "cell_type": "code",
   "execution_count": 1,
   "id": "9f209502",
   "metadata": {},
   "outputs": [],
   "source": [
    "#from flask import Flask,request,render_template"
   ]
  },
  {
   "cell_type": "code",
   "execution_count": 2,
   "id": "83ed4de7",
   "metadata": {},
   "outputs": [],
   "source": [
    "#!pip install flask"
   ]
  },
  {
   "cell_type": "code",
   "execution_count": 3,
   "id": "44d1a915",
   "metadata": {},
   "outputs": [],
   "source": [
    "from flask import Flask,request,render_template\n",
    "import joblib"
   ]
  },
  {
   "cell_type": "code",
   "execution_count": 4,
   "id": "19a5d549",
   "metadata": {},
   "outputs": [],
   "source": [
    "app = Flask(__name__)"
   ]
  },
  {
   "cell_type": "code",
   "execution_count": 5,
   "id": "4317466d",
   "metadata": {},
   "outputs": [],
   "source": [
    "@app.route(\"/\",methods=[\"GET\",\"POST\"])\n",
    "def index():\n",
    "    if request.method == \"POST\":\n",
    "        rates = float(request.form.get(\"rates\"))\n",
    "        print(rates)\n",
    "        model1 = joblib.load(\"Regression\")\n",
    "        r1 = model1.predict([[rates]])\n",
    "        \n",
    "        model2 = joblib.load(\"tree\")\n",
    "        r2 = model2.predict([[rates]])\n",
    "        \n",
    "        model3 = joblib.load(\"randomForest\")\n",
    "        r3 = model3.predict([[rates]])\n",
    "        \n",
    "        model4 = joblib.load(\"gradientBoosting\")\n",
    "        r4 = model4.predict([[rates]])\n",
    "        \n",
    "        model5 = joblib.load(\"svm\")\n",
    "        r5 = model5.predict([[rates]])\n",
    "        \n",
    "        model6 = joblib.load(\"neuralNet\")\n",
    "        r6 = model6.predict([[rates]])\n",
    "        return (render_template(\"index.html\",result1 = r1 ,result2=r2,result3 = r3 , result4 = r4, result5 = r5,result6=r6))\n",
    "    else:\n",
    "        return (render_template(\"index.html\",result1 = \"WAITTING\", result2 = \"WAITTING\", result3 = \"WAITTING\", result4 = \"WAITTING\", result5 = \"WAITTING\", result6 = \"WAITTING\"))"
   ]
  },
  {
   "cell_type": "code",
   "execution_count": null,
   "id": "6ad5ea3b",
   "metadata": {},
   "outputs": [
    {
     "name": "stdout",
     "output_type": "stream",
     "text": [
      " * Serving Flask app '__main__' (lazy loading)\n",
      " * Environment: production\n",
      "\u001b[31m   WARNING: This is a development server. Do not use it in a production deployment.\u001b[0m\n",
      "\u001b[2m   Use a production WSGI server instead.\u001b[0m\n",
      " * Debug mode: off\n"
     ]
    },
    {
     "name": "stderr",
     "output_type": "stream",
     "text": [
      " * Running on http://127.0.0.1:5000/ (Press CTRL+C to quit)\n",
      "127.0.0.1 - - [19/Jul/2022 11:16:38] \"GET / HTTP/1.1\" 200 -\n"
     ]
    }
   ],
   "source": [
    "if __name__ == \"__main__\":\n",
    "    app.run()"
   ]
  },
  {
   "cell_type": "code",
   "execution_count": null,
   "id": "c4542d14",
   "metadata": {},
   "outputs": [],
   "source": []
  }
 ],
 "metadata": {
  "kernelspec": {
   "display_name": "Python 3 (ipykernel)",
   "language": "python",
   "name": "python3"
  },
  "language_info": {
   "codemirror_mode": {
    "name": "ipython",
    "version": 3
   },
   "file_extension": ".py",
   "mimetype": "text/x-python",
   "name": "python",
   "nbconvert_exporter": "python",
   "pygments_lexer": "ipython3",
   "version": "3.7.9"
  }
 },
 "nbformat": 4,
 "nbformat_minor": 5
}
